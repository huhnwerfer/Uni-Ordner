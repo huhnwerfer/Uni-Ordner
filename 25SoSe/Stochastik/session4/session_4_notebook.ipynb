{
 "cells": [
  {
   "cell_type": "markdown",
   "id": "6855c452",
   "metadata": {},
   "source": [
    "# Session 4: Burrow's Delta\n",
    "\n",
    "In this session, we’ll perform a stylometric analysis on historical text data. We’ll use Burrow's Delta to build a classification model that attributes literary works to their respective authors based on unique writing styles.\n",
    "\n",
    "**To-Do**  \n",
    "Before the session, make sure all of the following packages are installed by running the cell below while using your Anaconda environment as the kernel."
   ]
  },
  {
   "cell_type": "code",
   "execution_count": 66,
   "id": "6c66e7da",
   "metadata": {},
   "outputs": [
    {
     "name": "stdout",
     "output_type": "stream",
     "text": [
      "Requirement already satisfied: pandas in /opt/homebrew/anaconda3/envs/stats_sess_4/lib/python3.12/site-packages (2.2.3)\n",
      "Requirement already satisfied: scikit-learn in /opt/homebrew/anaconda3/envs/stats_sess_4/lib/python3.12/site-packages (1.6.1)\n",
      "Requirement already satisfied: plotly in /opt/homebrew/anaconda3/envs/stats_sess_4/lib/python3.12/site-packages (6.0.1)\n",
      "Requirement already satisfied: nbformat in /opt/homebrew/anaconda3/envs/stats_sess_4/lib/python3.12/site-packages (5.10.4)\n",
      "Requirement already satisfied: matplotlib in /opt/homebrew/anaconda3/envs/stats_sess_4/lib/python3.12/site-packages (3.10.3)\n",
      "Requirement already satisfied: numpy>=1.26.0 in /opt/homebrew/anaconda3/envs/stats_sess_4/lib/python3.12/site-packages (from pandas) (2.2.5)\n",
      "Requirement already satisfied: python-dateutil>=2.8.2 in /opt/homebrew/anaconda3/envs/stats_sess_4/lib/python3.12/site-packages (from pandas) (2.9.0.post0)\n",
      "Requirement already satisfied: pytz>=2020.1 in /opt/homebrew/anaconda3/envs/stats_sess_4/lib/python3.12/site-packages (from pandas) (2025.2)\n",
      "Requirement already satisfied: tzdata>=2022.7 in /opt/homebrew/anaconda3/envs/stats_sess_4/lib/python3.12/site-packages (from pandas) (2025.2)\n",
      "Requirement already satisfied: scipy>=1.6.0 in /opt/homebrew/anaconda3/envs/stats_sess_4/lib/python3.12/site-packages (from scikit-learn) (1.15.3)\n",
      "Requirement already satisfied: joblib>=1.2.0 in /opt/homebrew/anaconda3/envs/stats_sess_4/lib/python3.12/site-packages (from scikit-learn) (1.5.0)\n",
      "Requirement already satisfied: threadpoolctl>=3.1.0 in /opt/homebrew/anaconda3/envs/stats_sess_4/lib/python3.12/site-packages (from scikit-learn) (3.6.0)\n",
      "Requirement already satisfied: narwhals>=1.15.1 in /opt/homebrew/anaconda3/envs/stats_sess_4/lib/python3.12/site-packages (from plotly) (1.38.2)\n",
      "Requirement already satisfied: packaging in /opt/homebrew/anaconda3/envs/stats_sess_4/lib/python3.12/site-packages (from plotly) (25.0)\n",
      "Requirement already satisfied: fastjsonschema>=2.15 in /opt/homebrew/anaconda3/envs/stats_sess_4/lib/python3.12/site-packages (from nbformat) (2.21.1)\n",
      "Requirement already satisfied: jsonschema>=2.6 in /opt/homebrew/anaconda3/envs/stats_sess_4/lib/python3.12/site-packages (from nbformat) (4.23.0)\n",
      "Requirement already satisfied: jupyter-core!=5.0.*,>=4.12 in /opt/homebrew/anaconda3/envs/stats_sess_4/lib/python3.12/site-packages (from nbformat) (5.7.2)\n",
      "Requirement already satisfied: traitlets>=5.1 in /opt/homebrew/anaconda3/envs/stats_sess_4/lib/python3.12/site-packages (from nbformat) (5.14.3)\n",
      "Requirement already satisfied: contourpy>=1.0.1 in /opt/homebrew/anaconda3/envs/stats_sess_4/lib/python3.12/site-packages (from matplotlib) (1.3.2)\n",
      "Requirement already satisfied: cycler>=0.10 in /opt/homebrew/anaconda3/envs/stats_sess_4/lib/python3.12/site-packages (from matplotlib) (0.12.1)\n",
      "Requirement already satisfied: fonttools>=4.22.0 in /opt/homebrew/anaconda3/envs/stats_sess_4/lib/python3.12/site-packages (from matplotlib) (4.58.0)\n",
      "Requirement already satisfied: kiwisolver>=1.3.1 in /opt/homebrew/anaconda3/envs/stats_sess_4/lib/python3.12/site-packages (from matplotlib) (1.4.8)\n",
      "Requirement already satisfied: pillow>=8 in /opt/homebrew/anaconda3/envs/stats_sess_4/lib/python3.12/site-packages (from matplotlib) (11.2.1)\n",
      "Requirement already satisfied: pyparsing>=2.3.1 in /opt/homebrew/anaconda3/envs/stats_sess_4/lib/python3.12/site-packages (from matplotlib) (3.2.3)\n",
      "Requirement already satisfied: attrs>=22.2.0 in /opt/homebrew/anaconda3/envs/stats_sess_4/lib/python3.12/site-packages (from jsonschema>=2.6->nbformat) (25.3.0)\n",
      "Requirement already satisfied: jsonschema-specifications>=2023.03.6 in /opt/homebrew/anaconda3/envs/stats_sess_4/lib/python3.12/site-packages (from jsonschema>=2.6->nbformat) (2025.4.1)\n",
      "Requirement already satisfied: referencing>=0.28.4 in /opt/homebrew/anaconda3/envs/stats_sess_4/lib/python3.12/site-packages (from jsonschema>=2.6->nbformat) (0.36.2)\n",
      "Requirement already satisfied: rpds-py>=0.7.1 in /opt/homebrew/anaconda3/envs/stats_sess_4/lib/python3.12/site-packages (from jsonschema>=2.6->nbformat) (0.24.0)\n",
      "Requirement already satisfied: platformdirs>=2.5 in /opt/homebrew/anaconda3/envs/stats_sess_4/lib/python3.12/site-packages (from jupyter-core!=5.0.*,>=4.12->nbformat) (4.3.8)\n",
      "Requirement already satisfied: six>=1.5 in /opt/homebrew/anaconda3/envs/stats_sess_4/lib/python3.12/site-packages (from python-dateutil>=2.8.2->pandas) (1.17.0)\n",
      "Requirement already satisfied: typing-extensions>=4.4.0 in /opt/homebrew/anaconda3/envs/stats_sess_4/lib/python3.12/site-packages (from referencing>=0.28.4->jsonschema>=2.6->nbformat) (4.13.2)\n"
     ]
    }
   ],
   "source": [
    "!pip install pandas scikit-learn plotly nbformat matplotlib"
   ]
  },
  {
   "cell_type": "markdown",
   "id": "3d6b2e2e",
   "metadata": {},
   "source": [
    "## 1. Step: Preparing the data\n",
    "\n",
    "We’ll be conducting the stylometric analysis using classic German literature, including works by well-known authors such as Goethe, Schiller, and others.\n",
    "\n",
    "The following CSV file, provided via Moodle, contains 553 German belletristic texts sourced from the Deutsches Textarchiv (DTA).\n",
    "\n",
    "> The DTA offers cross-disciplinary and cross-genre collections and corpora of German-language texts. Its core corpus of around 1,500 titles serves as the foundation for a reference corpus of Modern High German.  \n",
    "> https://www.deutschestextarchiv.de\n",
    "\n",
    "Each document was originally downloaded as an individual XML file from [https://www.deutschestextarchiv.de/download](https://www.deutschestextarchiv.de/download). The XML files were parsed and cleaned of archaic German characters. The CSV contains the processed texts we’ll be working with."
   ]
  },
  {
   "cell_type": "code",
   "execution_count": 67,
   "id": "d910ec6c",
   "metadata": {},
   "outputs": [
    {
     "data": {
      "text/html": [
       "<div>\n",
       "<style scoped>\n",
       "    .dataframe tbody tr th:only-of-type {\n",
       "        vertical-align: middle;\n",
       "    }\n",
       "\n",
       "    .dataframe tbody tr th {\n",
       "        vertical-align: top;\n",
       "    }\n",
       "\n",
       "    .dataframe thead th {\n",
       "        text-align: right;\n",
       "    }\n",
       "</style>\n",
       "<table border=\"1\" class=\"dataframe\">\n",
       "  <thead>\n",
       "    <tr style=\"text-align: right;\">\n",
       "      <th></th>\n",
       "      <th>original_path</th>\n",
       "      <th>surname</th>\n",
       "      <th>forename</th>\n",
       "      <th>title</th>\n",
       "      <th>subtitle</th>\n",
       "      <th>volume</th>\n",
       "      <th>year</th>\n",
       "      <th>text</th>\n",
       "    </tr>\n",
       "  </thead>\n",
       "  <tbody>\n",
       "    <tr>\n",
       "      <th>0</th>\n",
       "      <td>./dta_kernkorpus_belletristik_2021-05-13/nette...</td>\n",
       "      <td>Nettelbeck</td>\n",
       "      <td>Joachim</td>\n",
       "      <td>Joachim Nettelbeck, Bürger zu Colberg</td>\n",
       "      <td>Eine Lebensbeschreibung, von ihm selbst aufgez...</td>\n",
       "      <td>Drittes Bändchen</td>\n",
       "      <td>1823</td>\n",
       "      <td>W as ich früher, als ich am Schlusse des Zweit...</td>\n",
       "    </tr>\n",
       "    <tr>\n",
       "      <th>1</th>\n",
       "      <td>./dta_kernkorpus_belletristik_2021-05-13/walle...</td>\n",
       "      <td>Wallenrodt</td>\n",
       "      <td>Johanna Isabella Eleonore von</td>\n",
       "      <td>Fritz, der Mann wie er nicht seyn sollte oder ...</td>\n",
       "      <td>Ein unterhaltender Roman von ihm selbst erzählt</td>\n",
       "      <td>Erster Theil</td>\n",
       "      <td>1800</td>\n",
       "      <td>Erster Abschnitt, welcher statt einer Vorrede ...</td>\n",
       "    </tr>\n",
       "    <tr>\n",
       "      <th>2</th>\n",
       "      <td>./dta_kernkorpus_belletristik_2021-05-13/kleis...</td>\n",
       "      <td>Kleist</td>\n",
       "      <td>Heinrich von</td>\n",
       "      <td>Das Käthchen von Heilbronn oder die Feuerprobe</td>\n",
       "      <td>ein großes historisches Ritterschauspiel. Aufg...</td>\n",
       "      <td>Unbekannt</td>\n",
       "      <td>1810</td>\n",
       "      <td>Erster Act . Scene : Eine unterirdische Höhle,...</td>\n",
       "    </tr>\n",
       "    <tr>\n",
       "      <th>3</th>\n",
       "      <td>./dta_kernkorpus_belletristik_2021-05-13/pocci...</td>\n",
       "      <td>Pocci</td>\n",
       "      <td>Franz von</td>\n",
       "      <td>Lustiges Komödienbüchlein</td>\n",
       "      <td>Unbekannt</td>\n",
       "      <td>Sechstes Bändchen</td>\n",
       "      <td>1877</td>\n",
       "      <td>Undine, die Wassernixe. Romantische Sage in 4 ...</td>\n",
       "    </tr>\n",
       "    <tr>\n",
       "      <th>4</th>\n",
       "      <td>./dta_kernkorpus_belletristik_2021-05-13/absch...</td>\n",
       "      <td>Abschatz</td>\n",
       "      <td>Hans Assmann von</td>\n",
       "      <td>Poetische Ubersetzungen und Gedichte</td>\n",
       "      <td>Unbekannt</td>\n",
       "      <td>Unbekannt</td>\n",
       "      <td>1704</td>\n",
       "      <td>FreyherrlichAbschatzisches EhrenGedächtniß. Al...</td>\n",
       "    </tr>\n",
       "    <tr>\n",
       "      <th>...</th>\n",
       "      <td>...</td>\n",
       "      <td>...</td>\n",
       "      <td>...</td>\n",
       "      <td>...</td>\n",
       "      <td>...</td>\n",
       "      <td>...</td>\n",
       "      <td>...</td>\n",
       "      <td>...</td>\n",
       "    </tr>\n",
       "    <tr>\n",
       "      <th>548</th>\n",
       "      <td>./dta_kernkorpus_belletristik_2021-05-13/hippe...</td>\n",
       "      <td>Hippel</td>\n",
       "      <td>Theodor Gottlieb von</td>\n",
       "      <td>Lebensläufe nach Aufsteigender Linie</td>\n",
       "      <td>nebst Beylagen A, B, C</td>\n",
       "      <td>Meines Lebenslaufs Dritter Theil. Erster Band.</td>\n",
       "      <td>1781</td>\n",
       "      <td>W ir sprachen kein lebendiges Wort, als ob’s t...</td>\n",
       "    </tr>\n",
       "    <tr>\n",
       "      <th>549</th>\n",
       "      <td>./dta_kernkorpus_belletristik_2021-05-13/stieb...</td>\n",
       "      <td>Stieber</td>\n",
       "      <td>Georg Friedrich</td>\n",
       "      <td>Leben Des Hertzogs Magni zu Mecklenburg, Erste...</td>\n",
       "      <td>Unbekannt</td>\n",
       "      <td>Unbekannt</td>\n",
       "      <td>1716</td>\n",
       "      <td>§. 1. D A eine gründliche Gelehrsamkeit auch d...</td>\n",
       "    </tr>\n",
       "    <tr>\n",
       "      <th>550</th>\n",
       "      <td>./dta_kernkorpus_belletristik_2021-05-13/goeth...</td>\n",
       "      <td>Goethe</td>\n",
       "      <td>Johann Wolfgang von</td>\n",
       "      <td>Faust</td>\n",
       "      <td>Eine Tragödie</td>\n",
       "      <td>Unbekannt</td>\n",
       "      <td>1808</td>\n",
       "      <td>Zueignung . Ihr naht euch wieder, schwankende ...</td>\n",
       "    </tr>\n",
       "    <tr>\n",
       "      <th>551</th>\n",
       "      <td>./dta_kernkorpus_belletristik_2021-05-13/stift...</td>\n",
       "      <td>Stifter</td>\n",
       "      <td>Adalbert</td>\n",
       "      <td>Bunte Steine</td>\n",
       "      <td>Ein Festgeschenk</td>\n",
       "      <td>Erster Band</td>\n",
       "      <td>1853</td>\n",
       "      <td>Vorrede. Es ist einmal gegen mich bemerkt word...</td>\n",
       "    </tr>\n",
       "    <tr>\n",
       "      <th>552</th>\n",
       "      <td>./dta_kernkorpus_belletristik_2021-05-13/hoffm...</td>\n",
       "      <td>Hoffmann von Fallersleben</td>\n",
       "      <td>August Heinrich</td>\n",
       "      <td>Unpolitische Lieder</td>\n",
       "      <td>Unbekannt</td>\n",
       "      <td>[Erster Theil]</td>\n",
       "      <td>1840</td>\n",
       "      <td>Erste Sitzung. Knüppel aus dem Sack. Von allen...</td>\n",
       "    </tr>\n",
       "  </tbody>\n",
       "</table>\n",
       "<p>553 rows × 8 columns</p>\n",
       "</div>"
      ],
      "text/plain": [
       "                                         original_path  \\\n",
       "0    ./dta_kernkorpus_belletristik_2021-05-13/nette...   \n",
       "1    ./dta_kernkorpus_belletristik_2021-05-13/walle...   \n",
       "2    ./dta_kernkorpus_belletristik_2021-05-13/kleis...   \n",
       "3    ./dta_kernkorpus_belletristik_2021-05-13/pocci...   \n",
       "4    ./dta_kernkorpus_belletristik_2021-05-13/absch...   \n",
       "..                                                 ...   \n",
       "548  ./dta_kernkorpus_belletristik_2021-05-13/hippe...   \n",
       "549  ./dta_kernkorpus_belletristik_2021-05-13/stieb...   \n",
       "550  ./dta_kernkorpus_belletristik_2021-05-13/goeth...   \n",
       "551  ./dta_kernkorpus_belletristik_2021-05-13/stift...   \n",
       "552  ./dta_kernkorpus_belletristik_2021-05-13/hoffm...   \n",
       "\n",
       "                       surname                       forename  \\\n",
       "0                   Nettelbeck                        Joachim   \n",
       "1                   Wallenrodt  Johanna Isabella Eleonore von   \n",
       "2                       Kleist                   Heinrich von   \n",
       "3                        Pocci                      Franz von   \n",
       "4                     Abschatz               Hans Assmann von   \n",
       "..                         ...                            ...   \n",
       "548                     Hippel           Theodor Gottlieb von   \n",
       "549                    Stieber                Georg Friedrich   \n",
       "550                     Goethe            Johann Wolfgang von   \n",
       "551                    Stifter                       Adalbert   \n",
       "552  Hoffmann von Fallersleben                August Heinrich   \n",
       "\n",
       "                                                 title  \\\n",
       "0                Joachim Nettelbeck, Bürger zu Colberg   \n",
       "1    Fritz, der Mann wie er nicht seyn sollte oder ...   \n",
       "2       Das Käthchen von Heilbronn oder die Feuerprobe   \n",
       "3                            Lustiges Komödienbüchlein   \n",
       "4                 Poetische Ubersetzungen und Gedichte   \n",
       "..                                                 ...   \n",
       "548               Lebensläufe nach Aufsteigender Linie   \n",
       "549  Leben Des Hertzogs Magni zu Mecklenburg, Erste...   \n",
       "550                                              Faust   \n",
       "551                                       Bunte Steine   \n",
       "552                                Unpolitische Lieder   \n",
       "\n",
       "                                              subtitle  \\\n",
       "0    Eine Lebensbeschreibung, von ihm selbst aufgez...   \n",
       "1      Ein unterhaltender Roman von ihm selbst erzählt   \n",
       "2    ein großes historisches Ritterschauspiel. Aufg...   \n",
       "3                                            Unbekannt   \n",
       "4                                            Unbekannt   \n",
       "..                                                 ...   \n",
       "548                             nebst Beylagen A, B, C   \n",
       "549                                          Unbekannt   \n",
       "550                                      Eine Tragödie   \n",
       "551                                   Ein Festgeschenk   \n",
       "552                                          Unbekannt   \n",
       "\n",
       "                                             volume  year  \\\n",
       "0                                  Drittes Bändchen  1823   \n",
       "1                                      Erster Theil  1800   \n",
       "2                                         Unbekannt  1810   \n",
       "3                                 Sechstes Bändchen  1877   \n",
       "4                                         Unbekannt  1704   \n",
       "..                                              ...   ...   \n",
       "548  Meines Lebenslaufs Dritter Theil. Erster Band.  1781   \n",
       "549                                       Unbekannt  1716   \n",
       "550                                       Unbekannt  1808   \n",
       "551                                     Erster Band  1853   \n",
       "552                                  [Erster Theil]  1840   \n",
       "\n",
       "                                                  text  \n",
       "0    W as ich früher, als ich am Schlusse des Zweit...  \n",
       "1    Erster Abschnitt, welcher statt einer Vorrede ...  \n",
       "2    Erster Act . Scene : Eine unterirdische Höhle,...  \n",
       "3    Undine, die Wassernixe. Romantische Sage in 4 ...  \n",
       "4    FreyherrlichAbschatzisches EhrenGedächtniß. Al...  \n",
       "..                                                 ...  \n",
       "548  W ir sprachen kein lebendiges Wort, als ob’s t...  \n",
       "549  §. 1. D A eine gründliche Gelehrsamkeit auch d...  \n",
       "550  Zueignung . Ihr naht euch wieder, schwankende ...  \n",
       "551  Vorrede. Es ist einmal gegen mich bemerkt word...  \n",
       "552  Erste Sitzung. Knüppel aus dem Sack. Von allen...  \n",
       "\n",
       "[553 rows x 8 columns]"
      ]
     },
     "execution_count": 67,
     "metadata": {},
     "output_type": "execute_result"
    }
   ],
   "source": [
    "# Quick Task\n",
    "\n",
    "# Load the csv\n",
    "import pandas as pd\n",
    "corpus = pd.read_csv(\"./dta_literatur.csv\")\n",
    "corpus"
   ]
  },
  {
   "cell_type": "code",
   "execution_count": 68,
   "id": "495e61e0",
   "metadata": {},
   "outputs": [
    {
     "data": {
      "text/plain": [
       "surname\n",
       "Goethe       18\n",
       "Jean Paul    15\n",
       "Bodmer       12\n",
       "Fontane       9\n",
       "Arnim         9\n",
       "             ..\n",
       "Stieler       1\n",
       "Krüger        1\n",
       "Fouqué        1\n",
       "Olearius      1\n",
       "Stieber       1\n",
       "Name: count, Length: 227, dtype: int64"
      ]
     },
     "execution_count": 68,
     "metadata": {},
     "output_type": "execute_result"
    }
   ],
   "source": [
    "# Quick Task\n",
    "\n",
    "# Get an overview of the authors\n",
    "surnames_counts = corpus['surname'].value_counts()\n",
    "surnames_counts"
   ]
  },
  {
   "cell_type": "markdown",
   "id": "2ba17761",
   "metadata": {},
   "source": [
    "As we know, Burrow's Delta works by comparing a given text to others. To calculate similarities and attribute authorship, we need reference material for each author.  \n",
    "This approach doesn't make sense for authors who only appear once in the dataset, so we need to filter out those cases."
   ]
  },
  {
   "cell_type": "code",
   "execution_count": 69,
   "id": "4392de80",
   "metadata": {},
   "outputs": [
    {
     "data": {
      "text/plain": [
       "Index(['Goethe', 'Jean Paul', 'Bodmer', 'Fontane', 'Arnim', 'Tieck',\n",
       "       'Richardson', 'Brockes', 'Keller', 'Klopstock', 'Schulz', 'Zachariae',\n",
       "       'Schlegel', 'Rückert', 'Schiller', 'Hofmannswaldau', 'Heine',\n",
       "       'Laukhard', 'Börne', 'Pocci'],\n",
       "      dtype='object', name='surname')"
      ]
     },
     "execution_count": 69,
     "metadata": {},
     "output_type": "execute_result"
    }
   ],
   "source": [
    "list_of_frequent_authors = surnames_counts[surnames_counts > 5].index\n",
    "list_of_frequent_authors"
   ]
  },
  {
   "cell_type": "code",
   "execution_count": 70,
   "id": "f62780dc",
   "metadata": {},
   "outputs": [
    {
     "data": {
      "text/html": [
       "<div>\n",
       "<style scoped>\n",
       "    .dataframe tbody tr th:only-of-type {\n",
       "        vertical-align: middle;\n",
       "    }\n",
       "\n",
       "    .dataframe tbody tr th {\n",
       "        vertical-align: top;\n",
       "    }\n",
       "\n",
       "    .dataframe thead th {\n",
       "        text-align: right;\n",
       "    }\n",
       "</style>\n",
       "<table border=\"1\" class=\"dataframe\">\n",
       "  <thead>\n",
       "    <tr style=\"text-align: right;\">\n",
       "      <th></th>\n",
       "      <th>original_path</th>\n",
       "      <th>surname</th>\n",
       "      <th>forename</th>\n",
       "      <th>title</th>\n",
       "      <th>subtitle</th>\n",
       "      <th>volume</th>\n",
       "      <th>year</th>\n",
       "      <th>text</th>\n",
       "    </tr>\n",
       "  </thead>\n",
       "  <tbody>\n",
       "    <tr>\n",
       "      <th>3</th>\n",
       "      <td>./dta_kernkorpus_belletristik_2021-05-13/pocci...</td>\n",
       "      <td>Pocci</td>\n",
       "      <td>Franz von</td>\n",
       "      <td>Lustiges Komödienbüchlein</td>\n",
       "      <td>Unbekannt</td>\n",
       "      <td>Sechstes Bändchen</td>\n",
       "      <td>1877</td>\n",
       "      <td>Undine, die Wassernixe. Romantische Sage in 4 ...</td>\n",
       "    </tr>\n",
       "    <tr>\n",
       "      <th>9</th>\n",
       "      <td>./dta_kernkorpus_belletristik_2021-05-13/pocci...</td>\n",
       "      <td>Pocci</td>\n",
       "      <td>Franz von</td>\n",
       "      <td>Lustiges Komödienbüchlein</td>\n",
       "      <td>Unbekannt</td>\n",
       "      <td>Band 1</td>\n",
       "      <td>1859</td>\n",
       "      <td>Prinz Rosenroth und Prinzessin Lilienweiß oder...</td>\n",
       "    </tr>\n",
       "    <tr>\n",
       "      <th>17</th>\n",
       "      <td>./dta_kernkorpus_belletristik_2021-05-13/goeth...</td>\n",
       "      <td>Goethe</td>\n",
       "      <td>Johann Wolfgang von</td>\n",
       "      <td>Aus meinem Leben</td>\n",
       "      <td>Dichtung und Wahrheit</td>\n",
       "      <td>Zweyter Theil</td>\n",
       "      <td>1812</td>\n",
       "      <td>Sechstes Buch . II. 1 So trieb es mich wechsel...</td>\n",
       "    </tr>\n",
       "    <tr>\n",
       "      <th>18</th>\n",
       "      <td>./dta_kernkorpus_belletristik_2021-05-13/arnim...</td>\n",
       "      <td>Arnim</td>\n",
       "      <td>Bettina von</td>\n",
       "      <td>Die Günderode</td>\n",
       "      <td>Unbekannt</td>\n",
       "      <td>Zweiter Theil</td>\n",
       "      <td>1840</td>\n",
       "      <td>Wenn Dich eine höhere Vorstellung durchdringt ...</td>\n",
       "    </tr>\n",
       "    <tr>\n",
       "      <th>21</th>\n",
       "      <td>./dta_kernkorpus_belletristik_2021-05-13/goeth...</td>\n",
       "      <td>Goethe</td>\n",
       "      <td>Johann Wolfgang von</td>\n",
       "      <td>Die Leiden des jungen Werthers</td>\n",
       "      <td>Unbekannt</td>\n",
       "      <td>Erster Theil</td>\n",
       "      <td>1774</td>\n",
       "      <td>am 4. May. 1771. W ie froh bin ich, daß ich we...</td>\n",
       "    </tr>\n",
       "    <tr>\n",
       "      <th>...</th>\n",
       "      <td>...</td>\n",
       "      <td>...</td>\n",
       "      <td>...</td>\n",
       "      <td>...</td>\n",
       "      <td>...</td>\n",
       "      <td>...</td>\n",
       "      <td>...</td>\n",
       "      <td>...</td>\n",
       "    </tr>\n",
       "    <tr>\n",
       "      <th>531</th>\n",
       "      <td>./dta_kernkorpus_belletristik_2021-05-13/brock...</td>\n",
       "      <td>Brockes</td>\n",
       "      <td>Barthold Heinrich</td>\n",
       "      <td>Physikalische und moralische Gedanken über die...</td>\n",
       "      <td>Nebst seinen übrigen nachgelassenen Gedichten,...</td>\n",
       "      <td>Neunter und letzter Theil</td>\n",
       "      <td>1748</td>\n",
       "      <td>BetrachBetrachtungen über die drey Reiche der ...</td>\n",
       "    </tr>\n",
       "    <tr>\n",
       "      <th>533</th>\n",
       "      <td>./dta_kernkorpus_belletristik_2021-05-13/hoffm...</td>\n",
       "      <td>Hofmannswaldau</td>\n",
       "      <td>Christian Hofmann von</td>\n",
       "      <td>Herrn von Hofmannswaldau und andrer Deutschen ...</td>\n",
       "      <td>Unbekannt</td>\n",
       "      <td>fünffter theil</td>\n",
       "      <td>1710</td>\n",
       "      <td>G alante Und V erliebte G edichte. Abbildung d...</td>\n",
       "    </tr>\n",
       "    <tr>\n",
       "      <th>544</th>\n",
       "      <td>./dta_kernkorpus_belletristik_2021-05-13/hoffm...</td>\n",
       "      <td>Hofmannswaldau</td>\n",
       "      <td>Christian Hofmann von</td>\n",
       "      <td>Herrn von Hoffmannswaldau und anderer Deutsche...</td>\n",
       "      <td>Unbekannt</td>\n",
       "      <td>dritter Theil</td>\n",
       "      <td>1703</td>\n",
       "      <td>G alante G edichte. An Flavien. Uber einen auf...</td>\n",
       "    </tr>\n",
       "    <tr>\n",
       "      <th>545</th>\n",
       "      <td>./dta_kernkorpus_belletristik_2021-05-13/rueck...</td>\n",
       "      <td>Rückert</td>\n",
       "      <td>Friedrich</td>\n",
       "      <td>Die Weisheit des Brahmanen</td>\n",
       "      <td>ein Lehrgedicht in Bruchstücken</td>\n",
       "      <td>Fünftes Bändchen</td>\n",
       "      <td>1839</td>\n",
       "      <td>XII. Rückert , Lehrgedicht V. 1 1. D u fassest...</td>\n",
       "    </tr>\n",
       "    <tr>\n",
       "      <th>550</th>\n",
       "      <td>./dta_kernkorpus_belletristik_2021-05-13/goeth...</td>\n",
       "      <td>Goethe</td>\n",
       "      <td>Johann Wolfgang von</td>\n",
       "      <td>Faust</td>\n",
       "      <td>Eine Tragödie</td>\n",
       "      <td>Unbekannt</td>\n",
       "      <td>1808</td>\n",
       "      <td>Zueignung . Ihr naht euch wieder, schwankende ...</td>\n",
       "    </tr>\n",
       "  </tbody>\n",
       "</table>\n",
       "<p>161 rows × 8 columns</p>\n",
       "</div>"
      ],
      "text/plain": [
       "                                         original_path         surname  \\\n",
       "3    ./dta_kernkorpus_belletristik_2021-05-13/pocci...           Pocci   \n",
       "9    ./dta_kernkorpus_belletristik_2021-05-13/pocci...           Pocci   \n",
       "17   ./dta_kernkorpus_belletristik_2021-05-13/goeth...          Goethe   \n",
       "18   ./dta_kernkorpus_belletristik_2021-05-13/arnim...           Arnim   \n",
       "21   ./dta_kernkorpus_belletristik_2021-05-13/goeth...          Goethe   \n",
       "..                                                 ...             ...   \n",
       "531  ./dta_kernkorpus_belletristik_2021-05-13/brock...         Brockes   \n",
       "533  ./dta_kernkorpus_belletristik_2021-05-13/hoffm...  Hofmannswaldau   \n",
       "544  ./dta_kernkorpus_belletristik_2021-05-13/hoffm...  Hofmannswaldau   \n",
       "545  ./dta_kernkorpus_belletristik_2021-05-13/rueck...         Rückert   \n",
       "550  ./dta_kernkorpus_belletristik_2021-05-13/goeth...          Goethe   \n",
       "\n",
       "                  forename                                              title  \\\n",
       "3                Franz von                          Lustiges Komödienbüchlein   \n",
       "9                Franz von                          Lustiges Komödienbüchlein   \n",
       "17     Johann Wolfgang von                                   Aus meinem Leben   \n",
       "18             Bettina von                                      Die Günderode   \n",
       "21     Johann Wolfgang von                     Die Leiden des jungen Werthers   \n",
       "..                     ...                                                ...   \n",
       "531      Barthold Heinrich  Physikalische und moralische Gedanken über die...   \n",
       "533  Christian Hofmann von  Herrn von Hofmannswaldau und andrer Deutschen ...   \n",
       "544  Christian Hofmann von  Herrn von Hoffmannswaldau und anderer Deutsche...   \n",
       "545              Friedrich                         Die Weisheit des Brahmanen   \n",
       "550    Johann Wolfgang von                                              Faust   \n",
       "\n",
       "                                              subtitle  \\\n",
       "3                                            Unbekannt   \n",
       "9                                            Unbekannt   \n",
       "17                               Dichtung und Wahrheit   \n",
       "18                                           Unbekannt   \n",
       "21                                           Unbekannt   \n",
       "..                                                 ...   \n",
       "531  Nebst seinen übrigen nachgelassenen Gedichten,...   \n",
       "533                                          Unbekannt   \n",
       "544                                          Unbekannt   \n",
       "545                    ein Lehrgedicht in Bruchstücken   \n",
       "550                                      Eine Tragödie   \n",
       "\n",
       "                        volume  year  \\\n",
       "3            Sechstes Bändchen  1877   \n",
       "9                       Band 1  1859   \n",
       "17               Zweyter Theil  1812   \n",
       "18               Zweiter Theil  1840   \n",
       "21                Erster Theil  1774   \n",
       "..                         ...   ...   \n",
       "531  Neunter und letzter Theil  1748   \n",
       "533             fünffter theil  1710   \n",
       "544              dritter Theil  1703   \n",
       "545           Fünftes Bändchen  1839   \n",
       "550                  Unbekannt  1808   \n",
       "\n",
       "                                                  text  \n",
       "3    Undine, die Wassernixe. Romantische Sage in 4 ...  \n",
       "9    Prinz Rosenroth und Prinzessin Lilienweiß oder...  \n",
       "17   Sechstes Buch . II. 1 So trieb es mich wechsel...  \n",
       "18   Wenn Dich eine höhere Vorstellung durchdringt ...  \n",
       "21   am 4. May. 1771. W ie froh bin ich, daß ich we...  \n",
       "..                                                 ...  \n",
       "531  BetrachBetrachtungen über die drey Reiche der ...  \n",
       "533  G alante Und V erliebte G edichte. Abbildung d...  \n",
       "544  G alante G edichte. An Flavien. Uber einen auf...  \n",
       "545  XII. Rückert , Lehrgedicht V. 1 1. D u fassest...  \n",
       "550  Zueignung . Ihr naht euch wieder, schwankende ...  \n",
       "\n",
       "[161 rows x 8 columns]"
      ]
     },
     "execution_count": 70,
     "metadata": {},
     "output_type": "execute_result"
    }
   ],
   "source": [
    "corpus = corpus[corpus['surname'].isin(list_of_frequent_authors)]\n",
    "corpus"
   ]
  },
  {
   "cell_type": "markdown",
   "id": "d724924e",
   "metadata": {},
   "source": [
    "We need to split three elements from the csv and store them as lists. The texts, in the following name documents, the surnames named authors and the titles."
   ]
  },
  {
   "cell_type": "code",
   "execution_count": 71,
   "id": "d881b883",
   "metadata": {},
   "outputs": [
    {
     "name": "stdout",
     "output_type": "stream",
     "text": [
      "['Pocci', 'Pocci', 'Goethe', 'Arnim', 'Goethe', 'Hofmannswaldau', 'Klopstock', 'Goethe', 'Arnim', 'Pocci', 'Richardson', 'Goethe', 'Schlegel', 'Jean Paul', 'Richardson', 'Bodmer', 'Fontane', 'Goethe', 'Schlegel', 'Tieck', 'Klopstock', 'Tieck', 'Zachariae', 'Börne', 'Arnim', 'Schulz', 'Richardson', 'Laukhard', 'Goethe', 'Rückert', 'Schulz', 'Hofmannswaldau', 'Keller', 'Fontane', 'Rückert', 'Rückert', 'Jean Paul', 'Richardson', 'Schulz', 'Tieck', 'Goethe', 'Jean Paul', 'Brockes', 'Tieck', 'Klopstock', 'Schiller', 'Brockes', 'Fontane', 'Börne', 'Jean Paul', 'Goethe', 'Rückert', 'Fontane', 'Heine', 'Schulz', 'Fontane', 'Jean Paul', 'Arnim', 'Rückert', 'Laukhard', 'Tieck', 'Heine', 'Zachariae', 'Bodmer', 'Laukhard', 'Schiller', 'Keller', 'Keller', 'Tieck', 'Bodmer', 'Hofmannswaldau', 'Brockes', 'Klopstock', 'Börne', 'Goethe', 'Heine', 'Fontane', 'Brockes', 'Schiller', 'Jean Paul', 'Hofmannswaldau', 'Börne', 'Jean Paul', 'Arnim', 'Richardson', 'Schiller', 'Goethe', 'Richardson', 'Laukhard', 'Goethe', 'Jean Paul', 'Zachariae', 'Schulz', 'Fontane', 'Heine', 'Börne', 'Bodmer', 'Arnim', 'Klopstock', 'Schiller', 'Schiller', 'Goethe', 'Bodmer', 'Arnim', 'Arnim', 'Keller', 'Bodmer', 'Keller', 'Schlegel', 'Schlegel', 'Bodmer', 'Bodmer', 'Keller', 'Pocci', 'Goethe', 'Bodmer', 'Brockes', 'Jean Paul', 'Börne', 'Jean Paul', 'Goethe', 'Heine', 'Tieck', 'Laukhard', 'Keller', 'Brockes', 'Goethe', 'Bodmer', 'Zachariae', 'Jean Paul', 'Brockes', 'Goethe', 'Klopstock', 'Laukhard', 'Richardson', 'Bodmer', 'Zachariae', 'Richardson', 'Bodmer', 'Goethe', 'Fontane', 'Fontane', 'Jean Paul', 'Jean Paul', 'Klopstock', 'Schlegel', 'Jean Paul', 'Pocci', 'Zachariae', 'Tieck', 'Schlegel', 'Schulz', 'Arnim', 'Pocci', 'Jean Paul', 'Heine', 'Brockes', 'Hofmannswaldau', 'Hofmannswaldau', 'Rückert', 'Goethe']\n",
      "['Lustiges Komödienbüchlein', 'Lustiges Komödienbüchlein', 'Aus meinem Leben', 'Die Günderode', 'Die Leiden des jungen Werthers', 'Herrn von Hofmannswaldau und andrer Deutschen auserlesener und bißher ungedruckter Gedichte', 'Der Messias', 'Götz von Berlichingen mit der eisernen Hand', 'Des Knaben Wunderhorn', 'Lustiges Komödienbüchlein', 'Clarissa', 'Torquato Tasso', 'Athenaeum', 'Flegeljahre', 'Clarissa', 'Sammlung Critischer, Poetischer, und andrer geistvollen Schriften', 'Irrungen, Wirrungen', 'Wilhelm Meisters Lehrjahre', 'Athenaeum', 'Phantasus', 'Oden', 'William Lovell', 'Poetische Schriften', 'Briefe aus Paris', 'Des Knaben Wunderhorn', 'Reise eines Liefländers von Riga nach Warschau, durch Südpreußen, über Breslau, Dresden, Karlsbad, Bayreuth, Nürnberg, Regensburg, München, Salzburg, Linz, Wien und Klagenfurt, nach Botzen in Tyrol', 'Clarissa', 'F. C. Laukhards Leben und Schicksale', 'West-östlicher Divan', 'Die Weisheit des Brahmanen', 'Neue Reise durch Italien', 'Herrn von Hofmannswaldau und anderer Deutschen auserlesener und bißher ungedruckter Gedichte anderer Theil', 'Der grüne Heinrich', 'Der Stechlin', 'Die Weisheit des Brahmanen', 'Die Weisheit des Brahmanen', 'Hesperus, oder 45 Hundsposttage', 'Clarissa', 'Reise eines Liefländers von Riga nach Warschau, durch Südpreußen, über Breslau, Dresden, Karlsbad, Bayreuth, Nürnberg, Regensburg, München, Salzburg, Linz, Wien und Klagenfurt, nach Botzen in Tyrol', 'William Lovell', 'Aus meinem Leben', 'Titan', 'Herrn B. H. Brockes [...] Land-Leben in Ritzebüttel', 'Phantasus', 'Der Messias', 'Kabale und Liebe', 'Jrdisches Vergnügen in Gott', 'Wanderungen durch die Mark Brandenburg', 'Briefe aus Paris', 'D. Katzenbergers Badereise', 'Iphigenie auf Tauris', 'Die Weisheit des Brahmanen', 'Wanderungen durch die Mark Brandenburg', 'Reisebilder', 'Reise eines Liefländers von Riga nach Warschau, durch Südpreußen, über Breslau, Dresden, Karlsbad, Bayreuth, Nürnberg, Regensburg, München, Salzburg, Linz, Wien und Klagenfurt, nach Botzen in Tyrol', 'Wanderungen durch die Mark Brandenburg', 'Hesperus, oder 45 Hundsposttage', \"Goethe's Briefwechsel mit einem Kinde\", 'Die Weisheit des Brahmanen', 'F. C. Laukhards Leben und Schicksale', 'William Lovell', 'Reisebilder', 'Poetische Schriften', 'Sammlung Critischer, Poetischer, und anderer geistvollen Schriften', 'F. C. Laukhards Leben und Schicksale', 'Maria Stuart', 'Das Sinngedicht', 'Der grüne Heinrich', \"Franz Sternbald's Wanderungen\", 'Sammlung Critischer, Poetischer, und anderer geistvollen Schriften', 'Herrn von Hofmannswaldau und andrer Deutschen auserlesene und bißher ungedruckte Gedichte', 'Jrdisches Vergnügen in Gott', 'Deutsche Gelehrtenrepublik', 'Briefe aus Paris', 'Die Wahlverwandtschaften', 'Reisebilder', 'Schach von Wuthenow', 'Jrdisches Vergnügen in Gott', 'Der Geisterseher', 'Die unsichtbare Loge', 'Deutsche Ubersetzungen und Gedichte', 'Briefe aus Paris', 'Flegeljahre', 'Des Knaben Wunderhorn', 'Clarissa', 'Dom Karlos', 'Wilhelm Meisters Lehrjahre', 'Clarissa', 'F. C. Laukhards Leben und Schicksale', 'Faust', 'Flegeljahre', 'Poetische Schriften', 'Reise eines Liefländers von Riga nach Warschau, durch Südpreußen, über Breslau, Dresden, Karlsbad, Bayreuth, Nürnberg, Regensburg, München, Salzburg, Linz, Wien und Klagenfurt, nach Botzen in Tyrol', 'Wanderungen durch die Mark Brandenburg', 'Buch der Lieder', 'Briefe aus Paris', 'Sammlung Critischer, Poetischer, und anderer geistvollen Schriften', 'Tagebuch', 'Der Messias', 'Die Räuber', 'Wilhelm Tell', 'Die Leiden des jungen Werthers', 'Sammlung Critischer, Poetischer, und anderer geistvollen Schriften', 'Der tolle Invalide auf dem Fort Ratonneau', 'Die Günderode', 'Der grüne Heinrich', 'Sammlung Critischer, Poetischer, und anderer geistvollen Schriften', 'Die Leute von Seldwyla', 'Lucinde', 'Athenaeum', 'Sammlung Critischer, Poetischer, und anderer geistvollen Schriften', 'Sammlung Critischer, Poetischer, und andrer geistvollen Schriften', 'Sieben Legenden', 'Lustiges Komödienbüchlein', 'Aus meinem Leben', 'Sammlung Critischer, Poetischer, und anderer geistvollen Schriften', 'Jrdisches Vergnügen in Gott, bestehend in Physicalisch- und Moralischen Gedichten', 'Die unsichtbare Loge', 'Briefe aus Paris', 'Titan', 'Die Wahlverwandtschaften', 'Reisebilder', 'Franz Sternbalds Wanderungen', 'F. C. Laukhards Leben und Schicksale', 'Der grüne Heinrich', 'Herrn B. H. Brockes, [...] verdeutschte Grund-Sätze der Welt-Weisheit, des Herrn Abts Genest', 'Wilhelm Meisters Lehrjahre', 'Sammlung Critischer, Poetischer, und anderer geistvollen Schriften', 'Poetische Schriften', 'Titan', 'Jrdisches Vergnügen in Gott, bestehend in Physicalisch- und Moralischen Gedichten', 'Wilhelm Meisters Lehrjahre', 'Der Messias', 'F. C. Laukhards Leben und Schicksale', 'Clarissa', 'Sammlung Critischer, Poetischer, und anderer geistvollen Schriften', 'Poetische Schriften', 'Clarissa', 'Sammlung Critischer, Poetischer, und anderer geistvollen Schriften', 'Reinecke Fuchs', 'Effi Briest', 'Gedichte', 'Titan', 'Flegeljahre', 'Der Messias', 'Florentin', 'D. Katzenbergers Badereise', 'Lustiges Komödienbüchlein', 'Poetische Schriften', 'Phantasus', 'Canut', 'Reise eines Liefländers von Riga nach Warschau, durch Südpreußen, über Breslau, Dresden, Karlsbad, Bayreuth, Nürnberg, Regensburg, München, Salzburg, Linz, Wien und Klagenfurt, nach Botzen in Tyrol', \"Goethe's Briefwechsel mit einem Kinde\", 'Lustiges Komödienbüchlein', 'Hesperus, oder 45 Hundsposttage', 'Deutschland', 'Physikalische und moralische Gedanken über die drey Reiche der Natur', 'Herrn von Hofmannswaldau und andrer Deutschen auserlesene und bißher ungedruckte Gedichte', 'Herrn von Hoffmannswaldau und anderer Deutschen auserlesener und bißher ungedruckter Gedichte', 'Die Weisheit des Brahmanen', 'Faust']\n"
     ]
    }
   ],
   "source": [
    "# Quick Task\n",
    "\n",
    "documents = corpus[\"text\"].to_list()\n",
    "authors =  corpus[\"surname\"].to_list()\n",
    "titles =  corpus[\"title\"].to_list()\n",
    "\n",
    "print(authors)\n",
    "print(titles)"
   ]
  },
  {
   "cell_type": "code",
   "execution_count": 72,
   "id": "42f0c208",
   "metadata": {},
   "outputs": [
    {
     "name": "stdout",
     "output_type": "stream",
     "text": [
      "Counter({'Goethe': 18, 'Jean Paul': 15, 'Bodmer': 12, 'Arnim': 9, 'Fontane': 9, 'Richardson': 8, 'Tieck': 8, 'Brockes': 8, 'Klopstock': 7, 'Keller': 7, 'Pocci': 6, 'Hofmannswaldau': 6, 'Schlegel': 6, 'Zachariae': 6, 'Börne': 6, 'Schulz': 6, 'Laukhard': 6, 'Rückert': 6, 'Schiller': 6, 'Heine': 6})\n"
     ]
    }
   ],
   "source": [
    "# short look at the create lists\n",
    "from collections import Counter\n",
    "print(Counter(authors))"
   ]
  },
  {
   "cell_type": "markdown",
   "id": "af6360f5",
   "metadata": {},
   "source": [
    "## 2. Step: Extracting Word Frequencies\n",
    "\n",
    "As you know, Burrow's Delta works by comparing distributions of word frequencies. It does so by focusing on so-called function words.\n",
    "\n",
    "**Function words**  \n",
    "> This linguistic category can broadly be defined as the small set of (typically short) words in a language (prepositions, particles, determiners, etc.) which are heavily grammaticalized and which, as opposed to nouns or verbs, often only carry little meaning in isolation (e.g., the versus cat). https://www.humanitiesdataanalysis.org/stylometry/notebook.html\n",
    "\n",
    "We will now create what are called count vectorizations. We use the top 30 tokens. If you have a specific list of words you want to build the model with, it's even better."
   ]
  },
  {
   "cell_type": "code",
   "execution_count": 73,
   "id": "2acb1b06",
   "metadata": {},
   "outputs": [
    {
     "data": {
      "text/plain": [
       "array([[  77,  143,  137, ...,  134,  209,  344],\n",
       "       [ 116,  136,  137, ...,  160,  223,  342],\n",
       "       [ 547,  415,  362, ...,  250,  355, 1442],\n",
       "       ...,\n",
       "       [ 593,  563,  525, ...,  386,  586,  994],\n",
       "       [ 187,  163,  234, ...,  217,  271,  438],\n",
       "       [ 102,  172,  101, ...,  131,  227,  398]], shape=(161, 30))"
      ]
     },
     "execution_count": 73,
     "metadata": {},
     "output_type": "execute_result"
    }
   ],
   "source": [
    "import sklearn.feature_extraction.text as text\n",
    "\n",
    "vectorizer = text.CountVectorizer(max_features=30, token_pattern=r\"(?u)\\b\\w+\\b\")\n",
    "v_documents = vectorizer.fit_transform(documents).toarray()\n",
    "v_documents"
   ]
  },
  {
   "cell_type": "code",
   "execution_count": 74,
   "id": "c5357b19",
   "metadata": {},
   "outputs": [
    {
     "name": "stdout",
     "output_type": "stream",
     "text": [
      "(161, 30)\n",
      "['als' 'an' 'auch' 'auf' 'das' 'daß' 'dem' 'den' 'der' 'des' 'die' 'ein'\n",
      " 'eine' 'er' 'es' 'ich' 'in' 'ist' 'mich' 'mir' 'mit' 'nicht' 'sich' 'sie'\n",
      " 'so' 'und' 'von' 'wenn' 'wie' 'zu']\n"
     ]
    }
   ],
   "source": [
    "print(v_documents.shape)\n",
    "print(vectorizer.get_feature_names_out())"
   ]
  },
  {
   "cell_type": "code",
   "execution_count": 75,
   "id": "29551dd1",
   "metadata": {},
   "outputs": [
    {
     "name": "stdout",
     "output_type": "stream",
     "text": [
      "10\n",
      "3961\n",
      "Richardson\n",
      "Clarissa\n"
     ]
    }
   ],
   "source": [
    "# Quick Task: Which document has the highest usage of the word \"zu\"?\n",
    "\n",
    "import numpy as np\n",
    "\n",
    "word_counts = [x[-1] for x in v_documents]\n",
    "\n",
    "index_max = np.argmax(word_counts)\n",
    "print(index_max)\n",
    "\n",
    "value_max = word_counts[index_max]\n",
    "print(value_max)\n",
    "\n",
    "print(authors[index_max])\n",
    "print(titles[index_max])\n",
    "#print(documents[index_max])\n"
   ]
  },
  {
   "cell_type": "markdown",
   "id": "7b778ec9",
   "metadata": {},
   "source": [
    "Recall that Burrows's Delta assumes word counts to be normalized. Normalization, in this context, means dividing each document vector by its length, where length is measured using a vector norm such as the sum of the components (the L1 norm) or the Euclidean length (L2). L1 normalization is a fancy way of saying that the absolute word frequencies in each document vector will be turned into relative frequencies, through dividing them by their sum (i.e., the total word count of the document, or the sum of the document vector). Scikit-learn’s preprocessing functions specify a number of normalization functions and classes. We use the function normalize() to turn the absolute frequencies into relative frequencies:"
   ]
  },
  {
   "cell_type": "code",
   "execution_count": 76,
   "id": "d2f6a17b",
   "metadata": {},
   "outputs": [
    {
     "data": {
      "text/plain": [
       "array([[0.00869074, 0.01613995, 0.01546275, ..., 0.01512415, 0.02358916,\n",
       "        0.03882619],\n",
       "       [0.01272907, 0.01492374, 0.01503347, ..., 0.01755734, 0.02447054,\n",
       "        0.03752881],\n",
       "       [0.02290236, 0.01737565, 0.01515659, ..., 0.01046726, 0.01486351,\n",
       "        0.06037515],\n",
       "       ...,\n",
       "       [0.02332901, 0.02214879, 0.02065384, ..., 0.01518549, 0.02305362,\n",
       "        0.03910461],\n",
       "       [0.0153329 , 0.01336504, 0.01918662, ..., 0.01779272, 0.0222204 ,\n",
       "        0.03591341],\n",
       "       [0.01106531, 0.01865915, 0.01095682, ..., 0.01421133, 0.02462573,\n",
       "        0.04317639]], shape=(161, 30))"
      ]
     },
     "execution_count": 76,
     "metadata": {},
     "output_type": "execute_result"
    }
   ],
   "source": [
    "import sklearn.preprocessing as preprocessing\n",
    "\n",
    "v_documents = preprocessing.normalize(v_documents.astype(float), norm='l1')\n",
    "v_documents"
   ]
  },
  {
   "cell_type": "markdown",
   "id": "26fae914",
   "metadata": {},
   "source": [
    "## Step 3: Splitting Training and Test Data\n",
    "\n",
    "Burrow's Delta doesn't involve traditional training. However, since we want to evaluate how well the method attributes texts to their authors, we need to split the dataset into two parts: one where the authors are known (training data), and one where we’ll attempt to assign authors (test data).  \n",
    "Because we also know the true authors of the test data, we can later evaluate how accurately the method performs."
   ]
  },
  {
   "cell_type": "code",
   "execution_count": 77,
   "id": "11050a8e",
   "metadata": {},
   "outputs": [
    {
     "name": "stdout",
     "output_type": "stream",
     "text": [
      "N=40 test documents with V=30 features.\n",
      "N=121 train documents with V=30 features.\n"
     ]
    }
   ],
   "source": [
    "import sklearn.model_selection as model_selection\n",
    "\n",
    "test_size = len(set(authors)) * 2\n",
    "(train_documents, test_documents, train_authors, test_authors) = model_selection.train_test_split(v_documents, authors, test_size=test_size, stratify=authors, random_state=2)\n",
    "\n",
    "print(f'N={test_documents.shape[0]} test documents with '\n",
    "      f'V={test_documents.shape[1]} features.')\n",
    "\n",
    "print(f'N={train_documents.shape[0]} train documents with '\n",
    "      f'V={train_documents.shape[1]} features.')"
   ]
  },
  {
   "cell_type": "markdown",
   "id": "e889000a",
   "metadata": {},
   "source": [
    "## Step 4: Scaling the Vectors\n",
    "\n",
    "In the code block below, we transform the relative word frequencies into *z-scores* using scikit-learn’s `StandardScaler` class.\n",
    "\n",
    "**What are z-scores?**  \n",
    "Z-scores are standardized values that indicate how many standard deviations a data point is from the mean of its distribution. This scaling allows us to compare features on a common scale, which is crucial for distance-based methods like Burrow's Delta.\n",
    "\n",
    "**Formula:**  \n",
    "$$\n",
    "z_i = \\frac{x_i - \\mu}{\\sigma}\n",
    "$$\n",
    "\n",
    "**Legend:**  \n",
    "- \\(x_i\\): the original value (e.g., word frequency)  \n",
    "- \\( \\mu \\): the mean of the feature across all documents  \n",
    "- \\( \\sigma \\): the standard deviation of the feature  \n",
    "- \\( z_i \\): the resulting z-score  \n",
    "\n",
    "Using z-scores helps normalize the influence of frequent and rare function words across different authors' texts.\n"
   ]
  },
  {
   "cell_type": "code",
   "execution_count": 78,
   "id": "d53cb0a3",
   "metadata": {},
   "outputs": [],
   "source": [
    "scaler = preprocessing.StandardScaler()\n",
    "scaler.fit(train_documents)\n",
    "\n",
    "train_documents = scaler.transform(train_documents)\n",
    "test_documents = scaler.transform(test_documents)"
   ]
  },
  {
   "cell_type": "markdown",
   "id": "1851de18",
   "metadata": {},
   "source": [
    "## Step 5: Calculating the distances\n",
    "\n",
    "In this step we are calculating the distance of all test documents to all training documents.\n",
    "\n",
    "Cityblock (Manhatten) distance: \n",
    "$$\n",
    "D(x, y) = \\sum_{i=1}^{n} |x_i - y_i|\n",
    "$$\n"
   ]
  },
  {
   "cell_type": "code",
   "execution_count": null,
   "id": "beea3e84",
   "metadata": {},
   "outputs": [
    {
     "data": {
      "text/plain": [
       "8"
      ]
     },
     "execution_count": 84,
     "metadata": {},
     "output_type": "execute_result"
    }
   ],
   "source": [
    "# Task: Calculate the Manhatten distance between these two vectors: A: [1,6,7,9], B: [4,6,2,9]\n",
    "\n",
    "A = [1,6,7,9]\n",
    "B = [4,6,2,9]\n",
    "\n",
    "distance = 0\n",
    "for a, b in zip(A, B):\n",
    "    distance += abs(a-b)\n",
    "\n",
    "print(distance)"
   ]
  },
  {
   "cell_type": "code",
   "execution_count": null,
   "id": "d64937b4",
   "metadata": {},
   "outputs": [
    {
     "name": "stdout",
     "output_type": "stream",
     "text": [
      "A and C: 8\n",
      "B and C: 2\n"
     ]
    }
   ],
   "source": [
    "# Task 2:  get a new vector C: [4,7,3,9]. Is a or B more similar?\n",
    "\n",
    "def get_distance(vec1, vec2):\n",
    "    distance = 0\n",
    "    for a, b in zip(vec1, vec2):\n",
    "        distance += abs(a-b)\n",
    "    return distance\n",
    "\n",
    "C = [4,7,3,9]\n",
    "print(f\"A and C: {get_distance(A, C)}\")\n",
    "print(f\"B and C: {get_distance(B, C)}\")\n",
    "\n",
    "# --> B and C are more similar!"
   ]
  },
  {
   "cell_type": "code",
   "execution_count": null,
   "id": "0fcefa2d",
   "metadata": {},
   "outputs": [],
   "source": [
    "# Task 3: What would happen if the vectors looked like this: A = [1,6,7,450], B = [4,6,2,800], C = [4,7,3,650] ?"
   ]
  },
  {
   "cell_type": "code",
   "execution_count": 79,
   "id": "71e914ee",
   "metadata": {},
   "outputs": [
    {
     "data": {
      "text/plain": [
       "array([[34.22836145, 30.67723041, 34.702151  , ..., 38.58901573,\n",
       "        21.03173327, 24.4046279 ],\n",
       "       [30.51231269, 23.13844768, 25.38194191, ..., 12.99129719,\n",
       "        26.91910648, 43.9376511 ],\n",
       "       [33.72969916, 30.44157256, 23.06120089, ..., 27.20943853,\n",
       "        33.09438104, 40.24318396],\n",
       "       ...,\n",
       "       [22.35719835, 11.88420254, 32.48333556, ..., 27.97338294,\n",
       "        25.75101572, 39.68785985],\n",
       "       [33.7877093 , 33.88011992, 23.82061812, ..., 32.23368066,\n",
       "        33.03744852, 27.8268211 ],\n",
       "       [32.81645382, 28.9451912 , 26.90420902, ..., 25.18315731,\n",
       "        32.68592357, 40.78932862]], shape=(40, 121))"
      ]
     },
     "execution_count": 79,
     "metadata": {},
     "output_type": "execute_result"
    }
   ],
   "source": [
    "import scipy.spatial.distance as scidist\n",
    "\n",
    "distances = scidist.cdist(test_documents, train_documents, metric='cityblock')\n",
    "distances"
   ]
  },
  {
   "cell_type": "code",
   "execution_count": 80,
   "id": "1e8fec97",
   "metadata": {},
   "outputs": [
    {
     "name": "stdout",
     "output_type": "stream",
     "text": [
      "[ 62 108  40 110  22  73 115 111  44 112  69  35  58  38 109  43  86  43\n",
      "  57  60  53  70  16 114  81 120   0 115  65  72  89 102  28  67  92   6\n",
      " 115  61 115  40]\n",
      "40\n",
      "['Tieck' 'Rückert' 'Schlegel' 'Schulz' 'Keller' 'Brockes' 'Goethe'\n",
      " 'Klopstock' 'Bodmer' 'Jean Paul' 'Bodmer' 'Heine' 'Hofmannswaldau'\n",
      " 'Börne' 'Laukhard' 'Fontane' 'Schiller' 'Fontane' 'Schiller' 'Tieck'\n",
      " 'Arnim' 'Laukhard' 'Schulz' 'Schulz' 'Goethe' 'Richardson' 'Brockes'\n",
      " 'Goethe' 'Jean Paul' 'Pocci' 'Zachariae' 'Jean Paul' 'Jean Paul'\n",
      " 'Klopstock' 'Richardson' 'Arnim' 'Goethe' 'Hofmannswaldau' 'Goethe'\n",
      " 'Schlegel']\n"
     ]
    }
   ],
   "source": [
    "import numpy as np\n",
    "\n",
    "print(np.argmin(distances, axis=1))\n",
    "print(len(np.argmin(distances, axis=1)))\n",
    "\n",
    "nn_predictions = np.array(train_authors)[np.argmin(distances, axis=1)]\n",
    "print(nn_predictions)"
   ]
  },
  {
   "cell_type": "markdown",
   "id": "fb3ddd09",
   "metadata": {},
   "source": [
    "## Step 5: Evaluating the Attribution\n",
    "\n",
    "After applying Burrow's Delta to assign authors to the test texts, we can evaluate how well the method performed.\n",
    "\n",
    "One common metric is **accuracy**, which tells us the proportion of correctly attributed texts:\n",
    "\n",
    "**Formula:**  \n",
    "$$\n",
    "\\text{Accuracy} = \\frac{\\text{Number of correct predictions}}{\\text{Total number of predictions}}\n",
    "$$\n",
    "\n",
    "While accuracy gives a general idea of performance, it doesn't show which authors were confused with each other. For that, we use a **confusion matrix**.\n",
    "\n",
    "**Confusion Matrix:**  \n",
    "A confusion matrix is a table that shows the counts of actual vs. predicted author labels. Each row represents the true author, while each column represents the predicted author. Ideally, most values should fall along the diagonal, indicating correct attributions.\n",
    "\n",
    "This helps us analyze:\n",
    "- Which authors are often misclassified\n",
    "- Whether the model struggles more with certain authors than others\n",
    "\n",
    "We’ll now compute both metrics to assess the results of our model.\n"
   ]
  },
  {
   "cell_type": "code",
   "execution_count": 81,
   "id": "e5207f09",
   "metadata": {},
   "outputs": [
    {
     "data": {
      "text/plain": [
       "0.9"
      ]
     },
     "execution_count": 81,
     "metadata": {},
     "output_type": "execute_result"
    }
   ],
   "source": [
    "from sklearn.metrics import accuracy_score\n",
    "\n",
    "accuracy = accuracy_score(test_authors, nn_predictions)\n",
    "accuracy"
   ]
  },
  {
   "cell_type": "code",
   "execution_count": 82,
   "id": "47abbb48",
   "metadata": {},
   "outputs": [
    {
     "data": {
      "text/plain": [
       "<sklearn.metrics._plot.confusion_matrix.ConfusionMatrixDisplay at 0x3100db500>"
      ]
     },
     "execution_count": 82,
     "metadata": {},
     "output_type": "execute_result"
    },
    {
     "data": {
      "image/png": "[encoded data removed]",
      "text/plain": [
       "<Figure size 1000x500 with 2 Axes>"
      ]
     },
     "metadata": {},
     "output_type": "display_data"
    }
   ],
   "source": [
    "from sklearn.metrics import confusion_matrix, ConfusionMatrixDisplay\n",
    "import matplotlib.pyplot as plt\n",
    "\n",
    "unique_labels = sorted(list(set(test_authors).union(set(nn_predictions)))) # get all authors from training and test and create a sorted list\n",
    "conf_matrix = confusion_matrix(test_authors, nn_predictions, labels=unique_labels)\n",
    "disp = ConfusionMatrixDisplay(confusion_matrix=conf_matrix, display_labels=unique_labels)\n",
    "\n",
    "fig, ax = plt.subplots(figsize=(10,5),dpi=100)\n",
    "disp.plot(xticks_rotation=90, ax =ax)"
   ]
  }
 ],
 "metadata": {
  "kernelspec": {
   "display_name": "stats_sess_4",
   "language": "python",
   "name": "python3"
  },
  "language_info": {
   "codemirror_mode": {
    "name": "ipython",
    "version": 3
   },
   "file_extension": ".py",
   "mimetype": "text/x-python",
   "name": "python",
   "nbconvert_exporter": "python",
   "pygments_lexer": "ipython3",
   "version": "3.12.9"
  }
 },
 "nbformat": 4,
 "nbformat_minor": 5
}
